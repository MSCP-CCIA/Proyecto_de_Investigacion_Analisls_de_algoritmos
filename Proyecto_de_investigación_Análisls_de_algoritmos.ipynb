{
  "nbformat": 4,
  "nbformat_minor": 0,
  "metadata": {
    "colab": {
      "provenance": [],
      "include_colab_link": true
    },
    "kernelspec": {
      "name": "python3",
      "display_name": "Python 3"
    },
    "language_info": {
      "name": "python"
    }
  },
  "cells": [
    {
      "cell_type": "markdown",
      "metadata": {
        "id": "view-in-github",
        "colab_type": "text"
      },
      "source": [
        "<a href=\"https://colab.research.google.com/github/MSCP-CCIA/Proyecto_de_Investigacion_Analisls_de_algoritmos/blob/main/Proyecto_de_investigaci%C3%B3n_An%C3%A1lisls_de_algoritmos.ipynb\" target=\"_parent\"><img src=\"https://colab.research.google.com/assets/colab-badge.svg\" alt=\"Open In Colab\"/></a>"
      ]
    },
    {
      "cell_type": "code",
      "source": [
        "!pip install memory-profiler"
      ],
      "metadata": {
        "colab": {
          "base_uri": "https://localhost:8080/"
        },
        "id": "GP_cU4Odx1yU",
        "outputId": "d4238722-511f-43a1-9c0b-8de26b266f1a"
      },
      "execution_count": 2,
      "outputs": [
        {
          "output_type": "stream",
          "name": "stdout",
          "text": [
            "Collecting memory-profiler\n",
            "  Downloading memory_profiler-0.61.0-py3-none-any.whl (31 kB)\n",
            "Requirement already satisfied: psutil in /usr/local/lib/python3.10/dist-packages (from memory-profiler) (5.9.5)\n",
            "Installing collected packages: memory-profiler\n",
            "Successfully installed memory-profiler-0.61.0\n"
          ]
        }
      ]
    },
    {
      "cell_type": "code",
      "source": [
        "%load_ext memory_profiler"
      ],
      "metadata": {
        "id": "HozEKqtrx40q"
      },
      "execution_count": 3,
      "outputs": []
    },
    {
      "cell_type": "code",
      "source": [
        "!pip install nltk\n",
        "import nltk\n",
        "nltk.download('gutenberg')"
      ],
      "metadata": {
        "id": "7lwGmNF75vT5",
        "colab": {
          "base_uri": "https://localhost:8080/"
        },
        "outputId": "b6f90e25-d8f0-49bb-97d7-22aca163d922"
      },
      "execution_count": 4,
      "outputs": [
        {
          "output_type": "stream",
          "name": "stdout",
          "text": [
            "Requirement already satisfied: nltk in /usr/local/lib/python3.10/dist-packages (3.8.1)\n",
            "Requirement already satisfied: click in /usr/local/lib/python3.10/dist-packages (from nltk) (8.1.7)\n",
            "Requirement already satisfied: joblib in /usr/local/lib/python3.10/dist-packages (from nltk) (1.3.2)\n",
            "Requirement already satisfied: regex>=2021.8.3 in /usr/local/lib/python3.10/dist-packages (from nltk) (2023.6.3)\n",
            "Requirement already satisfied: tqdm in /usr/local/lib/python3.10/dist-packages (from nltk) (4.66.1)\n"
          ]
        },
        {
          "output_type": "stream",
          "name": "stderr",
          "text": [
            "[nltk_data] Downloading package gutenberg to /root/nltk_data...\n",
            "[nltk_data]   Unzipping corpora/gutenberg.zip.\n"
          ]
        },
        {
          "output_type": "execute_result",
          "data": {
            "text/plain": [
              "True"
            ]
          },
          "metadata": {},
          "execution_count": 4
        }
      ]
    },
    {
      "cell_type": "code",
      "source": [
        "nltk.corpus.gutenberg.fileids()"
      ],
      "metadata": {
        "colab": {
          "base_uri": "https://localhost:8080/"
        },
        "id": "sxBpnaxk8JIe",
        "outputId": "08ee62c7-2545-42e2-9dba-97407fc78e20"
      },
      "execution_count": 5,
      "outputs": [
        {
          "output_type": "execute_result",
          "data": {
            "text/plain": [
              "['austen-emma.txt',\n",
              " 'austen-persuasion.txt',\n",
              " 'austen-sense.txt',\n",
              " 'bible-kjv.txt',\n",
              " 'blake-poems.txt',\n",
              " 'bryant-stories.txt',\n",
              " 'burgess-busterbrown.txt',\n",
              " 'carroll-alice.txt',\n",
              " 'chesterton-ball.txt',\n",
              " 'chesterton-brown.txt',\n",
              " 'chesterton-thursday.txt',\n",
              " 'edgeworth-parents.txt',\n",
              " 'melville-moby_dick.txt',\n",
              " 'milton-paradise.txt',\n",
              " 'shakespeare-caesar.txt',\n",
              " 'shakespeare-hamlet.txt',\n",
              " 'shakespeare-macbeth.txt',\n",
              " 'whitman-leaves.txt']"
            ]
          },
          "metadata": {},
          "execution_count": 5
        }
      ]
    },
    {
      "cell_type": "code",
      "source": [
        "dataset = nltk.corpus.gutenberg.words('whitman-leaves.txt')\n",
        "print(len(dataset))"
      ],
      "metadata": {
        "colab": {
          "base_uri": "https://localhost:8080/"
        },
        "id": "aY0IUrfw8NlC",
        "outputId": "534122a1-571d-43d5-d1d3-f29473e461bf"
      },
      "execution_count": 6,
      "outputs": [
        {
          "output_type": "stream",
          "name": "stdout",
          "text": [
            "154883\n"
          ]
        }
      ]
    },
    {
      "cell_type": "code",
      "source": [
        "# Entrenar el modelo HMM\n",
        "def entrenar_hmm(palabras):\n",
        "    transiciones = {}\n",
        "    prob_inicial = {}\n",
        "    for i in range(len(palabras) - 1):\n",
        "        palabra1, palabra2 = palabras[i], palabras[i + 1]\n",
        "        if palabra1 not in transiciones:\n",
        "            transiciones[palabra1] = {}\n",
        "        if palabra2 not in transiciones[palabra1]:\n",
        "            transiciones[palabra1][palabra2] = 0\n",
        "        transiciones[palabra1][palabra2] += 1\n",
        "        if i == 0:\n",
        "            if palabra1 not in prob_inicial:\n",
        "                prob_inicial[palabra1] = 0\n",
        "            prob_inicial[palabra1] += 1\n",
        "    for palabra in prob_inicial:\n",
        "        prob_inicial[palabra] /= len(palabras)\n",
        "    for palabra1 in transiciones:\n",
        "        total = sum(transiciones[palabra1].values())\n",
        "        for palabra2 in transiciones[palabra1]:\n",
        "            transiciones[palabra1][palabra2] /= total\n",
        "    return prob_inicial, transiciones\n",
        "prob_inicial, transiciones = entrenar_hmm(dataset)\n",
        "# Predicción de la siguiente palabra\n",
        "def predecir_siguiente_palabra(historial, prob_inicial, transiciones):\n",
        "    if historial[-1] in transiciones:\n",
        "        siguiente_palabra = max(transiciones[historial[-1]], key=transiciones[historial[-1]].get)\n",
        "    else:\n",
        "        siguiente_palabra = max(prob_inicial, key=prob_inicial.get)\n",
        "    return siguiente_palabra"
      ],
      "metadata": {
        "id": "RLeQSUAv9qrv"
      },
      "execution_count": 7,
      "outputs": []
    },
    {
      "cell_type": "code",
      "source": [
        "%timeit prob_inicial, transiciones = entrenar_hmm(dataset)"
      ],
      "metadata": {
        "colab": {
          "base_uri": "https://localhost:8080/"
        },
        "id": "NItyObkqyP-R",
        "outputId": "28abdf7c-36e5-4eda-bdab-06451f860e39"
      },
      "execution_count": 8,
      "outputs": [
        {
          "output_type": "stream",
          "name": "stdout",
          "text": [
            "289 ms ± 46.7 ms per loop (mean ± std. dev. of 7 runs, 1 loop each)\n"
          ]
        }
      ]
    },
    {
      "cell_type": "code",
      "source": [
        "%memit prob_inicial, transiciones = entrenar_hmm(dataset)"
      ],
      "metadata": {
        "colab": {
          "base_uri": "https://localhost:8080/"
        },
        "id": "BSSric8ayWme",
        "outputId": "8f45526b-92df-402d-9fd8-f933f8948123"
      },
      "execution_count": 9,
      "outputs": [
        {
          "output_type": "stream",
          "name": "stdout",
          "text": [
            "peak memory: 186.73 MiB, increment: 0.00 MiB\n"
          ]
        }
      ]
    },
    {
      "cell_type": "code",
      "source": [
        "# Ejemplo de uso\n",
        "historial = [\"sea\"]\n",
        "siguiente_palabra = predecir_siguiente_palabra(historial, prob_inicial, transiciones)\n",
        "print(\"Siguiente palabra:\", siguiente_palabra)"
      ],
      "metadata": {
        "colab": {
          "base_uri": "https://localhost:8080/"
        },
        "id": "kzS61xdituJk",
        "outputId": "d8775fde-f224-42ef-f2d9-2dcb26bf29e0"
      },
      "execution_count": 10,
      "outputs": [
        {
          "output_type": "stream",
          "name": "stdout",
          "text": [
            "Siguiente palabra: ,\n"
          ]
        }
      ]
    }
  ]
}